{
 "cells": [
  {
   "cell_type": "markdown",
   "metadata": {},
   "source": [
    "# Titanic Dataset Example 🚢\n",
    "\n",
    "This example demonstrates how to fetch the Titanic dataset using **Scikit-learn** and explore it. We will use the dataset from OpenML.\n",
    "\n",
    "[OpenML](https://openml.org) is an open, collaborative platform for machine learning. It provides access to datasets, algorithms, and experiments, making it easy to share and reuse data and models. By promoting transparency and reproducibility, OpenML accelerates discovery and supports open science in the field of machine learning."
   ]
  },
  {
   "cell_type": "code",
   "execution_count": 10,
   "metadata": {},
   "outputs": [
    {
     "name": "stdout",
     "output_type": "stream",
     "text": [
      "{'default_target_attribute': 'survived',\n",
      " 'description_version': '9',\n",
      " 'file_id': '16826755',\n",
      " 'format': 'ARFF',\n",
      " 'id': '40945',\n",
      " 'licence': 'Public',\n",
      " 'md5_checksum': '60ac7205eee0ba5045c90b3bba95b1c4',\n",
      " 'minio_url': 'https://openml1.win.tue.nl/datasets/0004/40945/dataset_40945.pq',\n",
      " 'name': 'Titanic',\n",
      " 'parquet_url': 'https://openml1.win.tue.nl/datasets/0004/40945/dataset_40945.pq',\n",
      " 'processing_date': '2018-10-04 07:19:36',\n",
      " 'status': 'active',\n",
      " 'tag': ['Computational Universe', 'Manufacturing', 'text_data'],\n",
      " 'upload_date': '2017-10-16T01:17:36',\n",
      " 'url': 'https://api.openml.org/data/v1/download/16826755/Titanic.arff',\n",
      " 'version': '1',\n",
      " 'visibility': 'public'}\n"
     ]
    }
   ],
   "source": [
    "from pprint import pprint\n",
    "from sklearn.datasets import fetch_openml\n",
    "\n",
    "# Fetch the Titanic dataset\n",
    "titanic = fetch_openml(\"titanic\", version=1, as_frame=True)\n",
    "\n",
    "# Print details about the dataset\n",
    "pprint(titanic.details)"
   ]
  },
  {
   "cell_type": "code",
   "execution_count": 11,
   "metadata": {},
   "outputs": [
    {
     "name": "stdout",
     "output_type": "stream",
     "text": [
      "<class 'pandas.core.frame.DataFrame'>\n",
      "RangeIndex: 1309 entries, 0 to 1308\n",
      "Data columns (total 13 columns):\n",
      " #   Column     Non-Null Count  Dtype   \n",
      "---  ------     --------------  -----   \n",
      " 0   pclass     1309 non-null   int64   \n",
      " 1   name       1309 non-null   object  \n",
      " 2   sex        1309 non-null   category\n",
      " 3   age        1046 non-null   float64 \n",
      " 4   sibsp      1309 non-null   int64   \n",
      " 5   parch      1309 non-null   int64   \n",
      " 6   ticket     1309 non-null   object  \n",
      " 7   fare       1308 non-null   float64 \n",
      " 8   cabin      295 non-null    object  \n",
      " 9   embarked   1307 non-null   category\n",
      " 10  boat       486 non-null    object  \n",
      " 11  body       121 non-null    float64 \n",
      " 12  home.dest  745 non-null    object  \n",
      "dtypes: category(2), float64(3), int64(3), object(5)\n",
      "memory usage: 115.4+ KB\n"
     ]
    }
   ],
   "source": [
    "# Initialize the dataframe\n",
    "df = titanic.data\n",
    "\n",
    "# Print the first 5 rows\n",
    "df.info()"
   ]
  }
 ],
 "metadata": {
  "kernelspec": {
   "display_name": "aieng_py310",
   "language": "python",
   "name": "python3"
  },
  "language_info": {
   "codemirror_mode": {
    "name": "ipython",
    "version": 3
   },
   "file_extension": ".py",
   "mimetype": "text/x-python",
   "name": "python",
   "nbconvert_exporter": "python",
   "pygments_lexer": "ipython3",
   "version": "3.10.15"
  }
 },
 "nbformat": 4,
 "nbformat_minor": 2
}
